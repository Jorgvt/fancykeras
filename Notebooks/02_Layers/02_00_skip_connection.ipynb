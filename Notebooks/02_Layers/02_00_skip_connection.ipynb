{
 "cells": [
  {
   "cell_type": "code",
   "execution_count": null,
   "metadata": {},
   "outputs": [],
   "source": [
    "#| default_exp layers.skip_connection"
   ]
  },
  {
   "cell_type": "code",
   "execution_count": null,
   "metadata": {},
   "outputs": [],
   "source": [
    "#| export\n",
    "import tensorflow as tf\n",
    "from tensorflow.keras import layers"
   ]
  },
  {
   "attachments": {},
   "cell_type": "markdown",
   "metadata": {},
   "source": [
    "# Skip connection\n",
    "\n",
    "> Easily composable skip connection layer. Skip connections are great because they help the gradient to flow along the network and are used in a lot of modern architectures."
   ]
  },
  {
   "attachments": {},
   "cell_type": "markdown",
   "metadata": {},
   "source": [
    "Introducing skip connections in a Keras model implies moving away from the `Sequential` model, but we can build a custom `SkipConnection` layer to be able to integrate it with the easy-to-use `Sequential` model."
   ]
  },
  {
   "cell_type": "code",
   "execution_count": null,
   "metadata": {},
   "outputs": [],
   "source": [
    "#| exporti \n",
    "class Identity(layers.Layer):\n",
    "    \"\"\"Identity layer whose output corresponds to its input.\"\"\"\n",
    "    def __init__(self,\n",
    "                 **kwargs, # Key-word arguments to be passed to the base constructor.\n",
    "                 ):\n",
    "        super(Identity, self).__init__(**kwargs)\n",
    "    \n",
    "    def build(self,\n",
    "              input_shape, # Input shape.\n",
    "              ):\n",
    "        pass\n",
    "\n",
    "    def call(self,\n",
    "             inputs, # Layer inputs.\n",
    "             ):\n",
    "        return inputs"
   ]
  },
  {
   "cell_type": "code",
   "execution_count": null,
   "metadata": {},
   "outputs": [],
   "source": [
    "#| export\n",
    "class SkipConnection(layers.Layer):\n",
    "    \"\"\"Skip connection layer to easily introduce this architecture without moving away from the `Sequential` model.\"\"\"\n",
    "\n",
    "    def __init__(self,\n",
    "                 main_path, # Layer (or set of layers) to apply to the input through the main path.\n",
    "                 skip_path=None, # Layer (or set of layers) to apply to the input through the main path.\n",
    "                 how=\"add\", # How to combine the two paths. Can be either `\"add\"` or `\"concat\"`.\n",
    "                 **kwargs, # Key-word arguments to be passed to the base constructor.\n",
    "                 ):\n",
    "        super(SkipConnection, self).__init__(**kwargs)\n",
    "        self.main_path = main_path\n",
    "        self.skip_path = Identity() if skip_path is None else skip_path\n",
    "        self.combine = layers.Add() if how==\"add\" else layers.Concatenate()\n",
    "\n",
    "    def build(self,\n",
    "              input_shape, # Input shape.\n",
    "              ):\n",
    "        self.main_path.build(input_shape)\n",
    "        self.skip_path.build(input_shape)\n",
    "    \n",
    "    def call(self,\n",
    "             inputs, # Layer inputs.\n",
    "             ):\n",
    "        main_path = self.main_path(inputs)\n",
    "        skip_path = self.skip_path(inputs)\n",
    "        return self.combine([main_path, skip_path])"
   ]
  },
  {
   "cell_type": "code",
   "execution_count": null,
   "metadata": {},
   "outputs": [
    {
     "name": "stdout",
     "output_type": "stream",
     "text": [
      "Model: \"sequential_21\"\n",
      "_________________________________________________________________\n",
      " Layer (type)                Output Shape              Param #   \n",
      "=================================================================\n",
      " dense_29 (Dense)            (None, 30)                1530      \n",
      "                                                                 \n",
      " skip_connection_9 (SkipConn  (None, 30)               945       \n",
      " ection)                                                         \n",
      "                                                                 \n",
      "=================================================================\n",
      "Total params: 2,475\n",
      "Trainable params: 2,475\n",
      "Non-trainable params: 0\n",
      "_________________________________________________________________\n"
     ]
    }
   ],
   "source": [
    "model = tf.keras.Sequential([\n",
    "    layers.Dense(30, input_shape=(50,)),\n",
    "    SkipConnection(main_path=tf.keras.Sequential([layers.Dense(15), layers.Dense(30)]))\n",
    "])\n",
    "assert model.output_shape[-1] == 30\n",
    "model.summary()"
   ]
  },
  {
   "cell_type": "code",
   "execution_count": null,
   "metadata": {},
   "outputs": [],
   "source": [
    "sample_input = tf.random.normal(shape=(32,50))\n",
    "sample_output = model.predict(sample_input, verbose=0)\n",
    "assert sample_output.shape == (32,30)"
   ]
  },
  {
   "cell_type": "code",
   "execution_count": null,
   "metadata": {},
   "outputs": [
    {
     "name": "stdout",
     "output_type": "stream",
     "text": [
      "Model: \"sequential_23\"\n",
      "_________________________________________________________________\n",
      " Layer (type)                Output Shape              Param #   \n",
      "=================================================================\n",
      " dense_32 (Dense)            (None, 30)                1530      \n",
      "                                                                 \n",
      " skip_connection_10 (SkipCon  (None, 60)               945       \n",
      " nection)                                                        \n",
      "                                                                 \n",
      "=================================================================\n",
      "Total params: 2,475\n",
      "Trainable params: 2,475\n",
      "Non-trainable params: 0\n",
      "_________________________________________________________________\n"
     ]
    }
   ],
   "source": [
    "model = tf.keras.Sequential([\n",
    "    layers.Dense(30, input_shape=(50,)),\n",
    "    SkipConnection(main_path=tf.keras.Sequential([layers.Dense(15), layers.Dense(30)]), how=\"concat\")\n",
    "])\n",
    "assert model.output_shape[-1] == 60\n",
    "model.summary()"
   ]
  },
  {
   "cell_type": "code",
   "execution_count": null,
   "metadata": {},
   "outputs": [],
   "source": [
    "sample_input = tf.random.normal(shape=(32,50))\n",
    "sample_output = model.predict(sample_input, verbose=0)\n",
    "assert sample_output.shape == (32,60)"
   ]
  }
 ],
 "metadata": {
  "kernelspec": {
   "display_name": "Python 3.8.13 ('gpu')",
   "language": "python",
   "name": "python3"
  }
 },
 "nbformat": 4,
 "nbformat_minor": 2
}
