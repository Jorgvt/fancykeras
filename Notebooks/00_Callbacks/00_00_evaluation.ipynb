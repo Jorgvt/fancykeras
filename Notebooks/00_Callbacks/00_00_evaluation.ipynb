{
 "cells": [
  {
   "cell_type": "code",
   "execution_count": null,
   "metadata": {},
   "outputs": [],
   "source": [
    "#| default_exp callbacks.evaluation"
   ]
  },
  {
   "cell_type": "markdown",
   "metadata": {},
   "source": [
    "# Evaluation\n",
    "\n",
    "> Simple callbacks to evaluate the current training model on a dataset at different training times."
   ]
  },
  {
   "cell_type": "code",
   "execution_count": null,
   "metadata": {},
   "outputs": [],
   "source": [
    "#| export\n",
    "from typing import Dict\n",
    "\n",
    "import tensorflow as tf\n",
    "from tensorflow.keras.callbacks import Callback"
   ]
  },
  {
   "cell_type": "markdown",
   "metadata": {},
   "source": [
    "We're going to build a class that stores a given dataset and calls evaluate on the training model when needed to obtain the evaluation metrics. We want it to be flexible in a way that we can specify a number of epochs or batches as the evaluation frequency. This could be solved by having a different callback for epoch and batches, but we probably can get away with using only one."
   ]
  },
  {
   "cell_type": "code",
   "execution_count": null,
   "metadata": {},
   "outputs": [],
   "source": [
    "#| export\n",
    "class EvaluateDataset(Callback):\n",
    "    \"\"\"Evaluates a given `tf.data.Dataset` at different training times.\"\"\"\n",
    "\n",
    "    def __init__(self,\n",
    "                 dataset, # Dataset to be evaluated.\n",
    "                 freq_epochs, # Number of epochs to wait between evaluations. `None` means not evaluating at an epoch interval.\n",
    "                 freq_batches, # Number of batches to wait between evaluations. `None` means not evaluating at a batch interval.\n",
    "                 ):\n",
    "        self.dataset = dataset if isinstance(dataset, tf.data.Dataset) else self._convert_to_dataset(dataset)\n",
    "        self.freq_epochs = freq_epochs\n",
    "        self.freq_batches = freq_batches\n",
    "        self.batches_seen, self.epochs_seen = 0, 0\n",
    "        self._results_batches, self._results_epochs = [], []\n",
    "\n",
    "    def _convert_to_dataset(self,\n",
    "                            dataset, # Dataset to be converted.\n",
    "                            ):\n",
    "        \"\"\"Tries to convert a dataset into a `tf.data.Dataset`.\"\"\"\n",
    "        return dataset\n",
    "\n",
    "    def evaluate(self,\n",
    "                 ) -> Dict: # Dictionary of evaluation results.\n",
    "        \"\"\"Calls the `.evaluate()` method of the given `model` on the stored `dataset`.\"\"\"\n",
    "        return self.model.evaluate(self.dataset)\n",
    "\n",
    "    def on_train_batch_end(self,\n",
    "                           batch, # Batch number in an epoch\n",
    "                           logs=None, # Training logs.\n",
    "                           ):\n",
    "        if self.freq_batches is None: return\n",
    "        else:\n",
    "            if self.batches_seen % self.freq_batches == 0: \n",
    "                results = self.evaluate()\n",
    "                self._results_batches.append(results)\n",
    "            self.batches_seen += 1\n",
    "    \n",
    "    def on_epoch_end(self,\n",
    "                     batch, # Batch number in an epoch\n",
    "                     logs=None, # Training logs.\n",
    "                     ):\n",
    "        if self.freq_epochs is None: return\n",
    "        else:\n",
    "            if self.epochs_seen % self.freq_epochs == 0: \n",
    "                results = self.evaluate()\n",
    "                self._results_epochs.append(results)\n",
    "            self.epochs_seen += 1\n",
    "    \n",
    "    def _unpack_list_dicts(list_of_dicts):\n",
    "        \"\"\"Unpacks a list of dicts sharing keys into a dict with lists as values.\"\"\"\n",
    "        res = {}\n",
    "        for result in list_of_dicts:\n",
    "            for metric, value in result.items():\n",
    "                res[metric].append(value)\n",
    "        return res\n",
    "\n",
    "    @property\n",
    "    def results_batches(self):\n",
    "        if len(self._results_batches) == 0: raise ValueError(\"No values stored yet.\")\n",
    "        return self._unpack_list_dicts(self._results_batches)\n",
    "\n",
    "    @property\n",
    "    def results_epochs(self):\n",
    "        if len(self._results_epochs) == 0: raise ValueError(\"No values stored yet.\")\n",
    "        return self._unpack_list_dicts(self._results_epochs)"
   ]
  }
 ],
 "metadata": {
  "kernelspec": {
   "display_name": "Python 3.8.13 ('gpu')",
   "language": "python",
   "name": "python3"
  }
 },
 "nbformat": 4,
 "nbformat_minor": 2
}
