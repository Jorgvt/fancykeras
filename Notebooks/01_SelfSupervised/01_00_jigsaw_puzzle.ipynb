{
 "cells": [
  {
   "cell_type": "code",
   "execution_count": null,
   "metadata": {},
   "outputs": [],
   "source": [
    "#| default_exp selfsupervised.jigsaw_puzzle"
   ]
  },
  {
   "cell_type": "markdown",
   "metadata": {},
   "source": [
    "# Jigsaw Puzzle\n",
    "\n",
    "> Simple implementation of the Jigsaw Puzzle self-supervised task for TensorFlow. It is intented to be used with every dataset as plug and play feature."
   ]
  },
  {
   "cell_type": "code",
   "execution_count": null,
   "metadata": {},
   "outputs": [],
   "source": [
    "#| eval: false\n",
    "#| hide\n",
    "import matplotlib.pyplot as plt"
   ]
  },
  {
   "cell_type": "code",
   "execution_count": null,
   "metadata": {},
   "outputs": [],
   "source": [
    "#| export\n",
    "from itertools import permutations\n",
    "\n",
    "import numpy as np\n",
    "from einops import rearrange\n",
    "import tensorflow as tf"
   ]
  },
  {
   "cell_type": "markdown",
   "metadata": {},
   "source": [
    "This could be implemented as a function that uses out of scope variables, but as we want to have everything as packed as possible, we're going to define a `class` that stores the possible combinations and the methods needed to invert the permutations in order to de-puzzle a puzzled image."
   ]
  },
  {
   "cell_type": "code",
   "execution_count": null,
   "metadata": {},
   "outputs": [],
   "source": [
    "#| export\n",
    "class JigsawPuzzle():\n",
    "    \"\"\"Class that supports all the logic needed to perform a jigsaw puzzle self-supervision task.\"\"\"\n",
    "    \n",
    "    def __init__(self,\n",
    "                 n_tiles, # Number of tiles per puzzle.\n",
    "                 ):\n",
    "        self.n_tiles = n_tiles\n",
    "        self.permutations = list(permutations(range(n_tiles)))\n",
    "        self.labels = list(range(len(self.permutations)))\n",
    "        self.permutations2labels = {perm:label for perm, label in zip(self.permutations, self.labels)}\n",
    "        self.labels2permutations = {label:perm for perm, label in zip(self.permutations, self.labels)}\n",
    "    \n",
    "    @property\n",
    "    def possible_permutations(self):\n",
    "        return len(self.permutations)\n",
    "\n",
    "    def make_puzzle(self,\n",
    "                    img, # Image we want to puzzle. (HxWxC)\n",
    "                    ): # Puzzled image. (N_Tilesx(H/sqrt(N_Tiles))x(W/sqrt(N_Tiles))xC)\n",
    "        \"\"\"Takes as input an image and returns an array containing the puzzled image.\"\"\"\n",
    "        ## 1. Create patches\n",
    "        h, w = img.shape[0:2]\n",
    "        h_tile, w_tile = int(h) // int(np.sqrt(self.n_tiles)), int(w) // int(np.sqrt(self.n_tiles))\n",
    "        puzzle = rearrange(img, \"(h h2) (w w2) c -> (h w) h2 w2 c\", h2=h_tile, w2=w_tile)\n",
    "\n",
    "        ## 2. Obtain a random permutation\n",
    "        idx = tf.random.categorical(tf.math.log([tf.ones(self.possible_permutations)/self.possible_permutations]), 1, dtype=tf.int32)[0][0]\n",
    "        permutation = tf.gather(self.permutations, idx)\n",
    "        permutation_label = tf.gather(self.labels, idx)\n",
    "        ## 3. Rearrange the puzzle according to the permutation \n",
    "        puzzle = tf.gather(puzzle, indices=permutation)\n",
    "\n",
    "        return puzzle, permutation_label\n",
    "    \n",
    "    def assemble_puzzle(self,\n",
    "                        puzzle, # Puzzled image to be reassembled\n",
    "                        ):\n",
    "        return rearrange(puzzle, \"(nh nw) h w c -> (nh h) (nw w) c\", nh=self.n_tiles//2, nw=self.n_tiles//2)\n",
    "\n",
    "    def invert_puzzle(self,\n",
    "                      puzzle, # Puzzled image.\n",
    "                      permutation, # Permutation used to create the puzzle.\n",
    "                      return_full_image=True, # Wether to return the full image or an array of the separated tiles.\n",
    "                      return_permutation=False, # Wether to return the permutation that inverses the original permutation or not.\n",
    "                      ):\n",
    "        \"\"\"Takes a puzzle and the permutation that produced it and returns the de-puzzled image.\"\"\"\n",
    "        if not isinstance(permutation, np.ndarray): permutation = np.array(permutation)\n",
    "        inv = np.empty_like(permutation)\n",
    "        inv[permutation] = np.arange(permutation.shape[0])\n",
    "        original_img = tf.gather(puzzle, inv)\n",
    "        original_img = self.assemble_puzzle(original_img)\n",
    "        if return_permutation: return original_img, inv\n",
    "        else: return original_img"
   ]
  },
  {
   "cell_type": "code",
   "execution_count": null,
   "metadata": {},
   "outputs": [
    {
     "data": {
      "text/plain": [
       "((16, 32, 3), (16, 32, 3), (32, 32, 3))"
      ]
     },
     "execution_count": null,
     "metadata": {},
     "output_type": "execute_result"
    }
   ],
   "source": [
    "red = np.ones(shape=(16,16,3))*np.array([255,0,0])[None,None,:]\n",
    "blue = np.ones(shape=(16,16,3))*np.array([0,255,0])[None,None,:]\n",
    "green = np.ones(shape=(16,16,3))*np.array([0,0,255])[None,None,:]\n",
    "white = np.ones(shape=(16,16,3))*np.array([255,255,255])[None,None,:]\n",
    "red_blue = np.concatenate([red, blue], axis=1)\n",
    "green_white = np.concatenate([green, white], axis=1)\n",
    "img = np.concatenate([red_blue, green_white], axis=0)\n",
    "red_blue.shape, green_white.shape, img.shape"
   ]
  },
  {
   "cell_type": "code",
   "execution_count": null,
   "metadata": {},
   "outputs": [
    {
     "name": "stderr",
     "output_type": "stream",
     "text": [
      "Clipping input data to the valid range for imshow with RGB data ([0..1] for floats or [0..255] for integers).\n"
     ]
    },
    {
     "data": {
      "image/png": "[encoded data removed]",
      "text/plain": [
       "<Figure size 432x288 with 1 Axes>"
      ]
     },
     "metadata": {
      "needs_background": "light"
     },
     "output_type": "display_data"
    }
   ],
   "source": [
    "#| eval: false\n",
    "plt.imshow(img)\n",
    "plt.show()"
   ]
  },
  {
   "cell_type": "code",
   "execution_count": null,
   "metadata": {},
   "outputs": [],
   "source": [
    "puzler = JigsawPuzzle(n_tiles=4)"
   ]
  },
  {
   "cell_type": "code",
   "execution_count": null,
   "metadata": {},
   "outputs": [
    {
     "data": {
      "text/plain": [
       "(TensorShape([4, 16, 16, 3]),\n",
       " <tf.Tensor: shape=(), dtype=int32, numpy=5>,\n",
       " (0, 3, 2, 1))"
      ]
     },
     "execution_count": null,
     "metadata": {},
     "output_type": "execute_result"
    }
   ],
   "source": [
    "img_puzzle, label = puzler.make_puzzle(img)\n",
    "permutation =  puzler.labels2permutations[label.numpy()]\n",
    "img_puzzle.shape, label, permutation"
   ]
  },
  {
   "cell_type": "code",
   "execution_count": null,
   "metadata": {},
   "outputs": [
    {
     "name": "stderr",
     "output_type": "stream",
     "text": [
      "Clipping input data to the valid range for imshow with RGB data ([0..1] for floats or [0..255] for integers).\n",
      "Clipping input data to the valid range for imshow with RGB data ([0..1] for floats or [0..255] for integers).\n",
      "Clipping input data to the valid range for imshow with RGB data ([0..1] for floats or [0..255] for integers).\n",
      "Clipping input data to the valid range for imshow with RGB data ([0..1] for floats or [0..255] for integers).\n"
     ]
    },
    {
     "data": {
      "image/png": "[encoded data removed]",
      "text/plain": [
       "<Figure size 432x288 with 4 Axes>"
      ]
     },
     "metadata": {
      "needs_background": "light"
     },
     "output_type": "display_data"
    }
   ],
   "source": [
    "#| eval: false\n",
    "fig, axes = plt.subplots(2,2)\n",
    "for tile, ax in zip(img_puzzle, axes.ravel()):\n",
    "    ax.imshow(tile)\n",
    "plt.suptitle(permutation)\n",
    "plt.show()"
   ]
  },
  {
   "cell_type": "code",
   "execution_count": null,
   "metadata": {},
   "outputs": [
    {
     "data": {
      "text/plain": [
       "(TensorShape([32, 32, 3]), array([0, 3, 2, 1]))"
      ]
     },
     "execution_count": null,
     "metadata": {},
     "output_type": "execute_result"
    }
   ],
   "source": [
    "inverted_img, inverted_permutation = puzler.invert_puzzle(img_puzzle, permutation, return_full_image=True, return_permutation=True)\n",
    "inverted_img.shape, inverted_permutation"
   ]
  },
  {
   "cell_type": "code",
   "execution_count": null,
   "metadata": {},
   "outputs": [
    {
     "name": "stderr",
     "output_type": "stream",
     "text": [
      "Clipping input data to the valid range for imshow with RGB data ([0..1] for floats or [0..255] for integers).\n",
      "Clipping input data to the valid range for imshow with RGB data ([0..1] for floats or [0..255] for integers).\n",
      "Clipping input data to the valid range for imshow with RGB data ([0..1] for floats or [0..255] for integers).\n",
      "Clipping input data to the valid range for imshow with RGB data ([0..1] for floats or [0..255] for integers).\n"
     ]
    },
    {
     "data": {
      "image/png": "[encoded data removed]",
      "text/plain": [
       "<Figure size 432x288 with 4 Axes>"
      ]
     },
     "metadata": {
      "needs_background": "light"
     },
     "output_type": "display_data"
    }
   ],
   "source": [
    "#| eval: false\n",
    "fig, axes = plt.subplots(2,2)\n",
    "for tile, ax in zip(tf.gather(img_puzzle, inverted_permutation), axes.ravel()):\n",
    "    ax.imshow(tile)\n",
    "plt.suptitle(permutation)\n",
    "plt.show()"
   ]
  },
  {
   "cell_type": "code",
   "execution_count": null,
   "metadata": {},
   "outputs": [
    {
     "name": "stderr",
     "output_type": "stream",
     "text": [
      "Clipping input data to the valid range for imshow with RGB data ([0..1] for floats or [0..255] for integers).\n"
     ]
    },
    {
     "data": {
      "image/png": "[encoded data removed]",
      "text/plain": [
       "<Figure size 432x288 with 1 Axes>"
      ]
     },
     "metadata": {
      "needs_background": "light"
     },
     "output_type": "display_data"
    }
   ],
   "source": [
    "#| eval: false\n",
    "plt.imshow(inverted_img)\n",
    "plt.title(permutation)\n",
    "plt.show()"
   ]
  },
  {
   "cell_type": "markdown",
   "metadata": {},
   "source": [
    "## Using it with a `tf.data.Dataset`"
   ]
  },
  {
   "cell_type": "code",
   "execution_count": null,
   "metadata": {},
   "outputs": [],
   "source": [
    "#| eval: false\n",
    "def sample_dataset():\n",
    "    for i in range(20):\n",
    "        red = np.ones(shape=(16,16,3))*np.array([255,0,0])[None,None,:]\n",
    "        blue = np.ones(shape=(16,16,3))*np.array([0,255,0])[None,None,:]\n",
    "        green = np.ones(shape=(16,16,3))*np.array([0,0,255])[None,None,:]\n",
    "        white = np.ones(shape=(16,16,3))*np.array([255,255,255])[None,None,:]\n",
    "        red_blue = np.concatenate([red, blue], axis=1)\n",
    "        green_white = np.concatenate([green, white], axis=1)\n",
    "        img = np.concatenate([red_blue, green_white], axis=0)\n",
    "        yield img"
   ]
  },
  {
   "cell_type": "code",
   "execution_count": null,
   "metadata": {},
   "outputs": [],
   "source": [
    "#| eval: false\n",
    "dst = tf.data.Dataset.from_generator(sample_dataset,\n",
    "                                     output_signature=(\n",
    "                                        tf.TensorSpec(shape=(32,32,3), dtype=tf.float32)\n",
    "                                     ))\n",
    "puzler = JigsawPuzzle(n_tiles=4)\n",
    "dst_puzzle = dst.map(puzler.make_puzzle)"
   ]
  },
  {
   "cell_type": "code",
   "execution_count": null,
   "metadata": {},
   "outputs": [
    {
     "name": "stderr",
     "output_type": "stream",
     "text": [
      "Clipping input data to the valid range for imshow with RGB data ([0..1] for floats or [0..255] for integers).\n"
     ]
    },
    {
     "name": "stdout",
     "output_type": "stream",
     "text": [
      "(32, 32, 3)\n"
     ]
    },
    {
     "data": {
      "image/png": "[encoded data removed]",
      "text/plain": [
       "<Figure size 432x288 with 1 Axes>"
      ]
     },
     "metadata": {
      "needs_background": "light"
     },
     "output_type": "display_data"
    }
   ],
   "source": [
    "#| eval: false\n",
    "for img in dst:\n",
    "    print(img.shape)\n",
    "    break\n",
    "plt.imshow(img)\n",
    "plt.show()"
   ]
  },
  {
   "cell_type": "code",
   "execution_count": null,
   "metadata": {},
   "outputs": [
    {
     "name": "stderr",
     "output_type": "stream",
     "text": [
      "Clipping input data to the valid range for imshow with RGB data ([0..1] for floats or [0..255] for integers).\n"
     ]
    },
    {
     "name": "stdout",
     "output_type": "stream",
     "text": [
      "(4, 16, 16, 3)\n"
     ]
    },
    {
     "data": {
      "image/png": "[encoded data removed]",
      "text/plain": [
       "<Figure size 432x288 with 1 Axes>"
      ]
     },
     "metadata": {
      "needs_background": "light"
     },
     "output_type": "display_data"
    },
    {
     "name": "stderr",
     "output_type": "stream",
     "text": [
      "Clipping input data to the valid range for imshow with RGB data ([0..1] for floats or [0..255] for integers).\n"
     ]
    },
    {
     "data": {
      "image/png": "[encoded data removed]",
      "text/plain": [
       "<Figure size 432x288 with 1 Axes>"
      ]
     },
     "metadata": {
      "needs_background": "light"
     },
     "output_type": "display_data"
    }
   ],
   "source": [
    "#| eval: false\n",
    "for img, perm in dst_puzzle:\n",
    "    print(img.shape)\n",
    "    break\n",
    "perm = puzler.labels2permutations[perm.numpy()]\n",
    "img_ = puzler.invert_puzzle(img, perm)\n",
    "plt.imshow(puzler.assemble_puzzle(img))\n",
    "plt.title(perm)\n",
    "plt.show()\n",
    "plt.imshow(img_)\n",
    "plt.show()"
   ]
  }
 ],
 "metadata": {
  "kernelspec": {
   "display_name": "Python 3.8.13 ('gpu')",
   "language": "python",
   "name": "python3"
  }
 },
 "nbformat": 4,
 "nbformat_minor": 2
}
